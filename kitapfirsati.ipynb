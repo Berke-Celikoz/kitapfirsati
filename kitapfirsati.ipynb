{
 "cells": [
  {
   "cell_type": "code",
   "execution_count": 7,
   "metadata": {},
   "outputs": [],
   "source": [
    "import requests\n",
    "from bs4 import BeautifulSoup\n",
    "import pandas as pd\n"
   ]
  },
  {
   "cell_type": "code",
   "execution_count": 8,
   "metadata": {},
   "outputs": [],
   "source": [
    "url = \"https://www.bkmkitap.com/edebiyat-kitaplari?pg=1\"\n",
    "headers = { \"User-Agent\": \"Mozilla/5.0 (Windows NT 10.0; Win64; x64) AppleWebKit/537.36 (KHTML, like Gecko) Chrome/107.0.0.0 Safari/537.36\", \n",
    "           \"Accept-Encoding\":\"gzip, deflate\", \n",
    "           \"Accept\":\"text/html,application/xhtml+xml,application/xml;q=0.9,*/*;q=0.8\", \n",
    "           \"DNT\":\"1\", \"Connection\":\"close\", \"Upgrade-Insecure-Requests\":\"1\"}\n"
   ]
  },
  {
   "cell_type": "code",
   "execution_count": 9,
   "metadata": {},
   "outputs": [],
   "source": [
    "response = requests.get(url)\n",
    "page = requests.get(url,headers=headers).text\n",
    "soup=BeautifulSoup(page,\"html.parser\")"
   ]
  },
  {
   "cell_type": "code",
   "execution_count": 10,
   "metadata": {},
   "outputs": [],
   "source": [
    "book = soup.find(\"div\", class_ = \"col col-3 col-md-4 col-sm-6 col-xs-6 p-right mb productItem zoom ease\")"
   ]
  },
  {
   "cell_type": "code",
   "execution_count": 14,
   "metadata": {},
   "outputs": [
    {
     "data": {
      "text/plain": [
       "<div class=\"col col-3 col-md-4 col-sm-6 col-xs-6 p-right mb productItem zoom ease\" id=\"product-detail\">\n",
       "<div class=\"col col-12 drop-down hover box-border\">\n",
       "<div class=\"row\">\n",
       "<a class=\"image-wrapper fl detailLink productItem850410\" href=\"/gokcen-2-geride-kalanlar\">\n",
       "<span class=\"imgInner\">\n",
       "<img alt=\"Ephesus Yayınları - Gökçen 2: Geride Kalanlar\" class=\"lazy stImage\" data-src=\"https://cdn.bkmkitap.com/gokcen-2-geride-kalanlar-13472606-85-K.jpg\" data-type=\"\" src=\"/theme/standart/images/lazy_load_yukleniyor.gif\" title=\"Ephesus Yayınları - Gökçen 2: Geride Kalanlar\"/>\n",
       "</span>\n",
       "</a>\n",
       "</div>\n",
       "<div class=\"row\">\n",
       "<div class=\"col col-12 productDetails loaderWrapper\">\n",
       "<div class=\"row drop-down-title\">\n",
       "<div class=\"pos-r col col-12 text-center\">\n",
       "<div class=\"comment-star-wrapper\">\n",
       "<div class=\"pos-r fr\">\n",
       "<i class=\"fl icon-stars text-custom-pink icon-pull-right\"></i>\n",
       "<i class=\"fl icon-stars text-custom-pink icon-pull-right\"></i>\n",
       "<i class=\"fl icon-stars text-custom-pink icon-pull-right\"></i>\n",
       "<i class=\"fl icon-stars text-custom-pink icon-pull-right\"></i>\n",
       "<i class=\"fl icon-stars text-custom-pink icon-pull-right\"></i>\n",
       "<div class=\"pos-a pos-top pos-left d-flex stars\" style=\"width:100%;\">\n",
       "<i class=\"fl icon-stars-fill text-custom-pink icon-pull-right\"></i>\n",
       "<i class=\"fl icon-stars-fill text-custom-pink icon-pull-right\"></i>\n",
       "<i class=\"fl icon-stars-fill text-custom-pink icon-pull-right\"></i>\n",
       "<i class=\"fl icon-stars-fill text-custom-pink icon-pull-right\"></i>\n",
       "<i class=\"fl icon-stars-fill text-custom-pink icon-pull-right\"></i>\n",
       "</div>\n",
       "</div>\n",
       "</div>\n",
       "</div>\n",
       "<div class=\"box col-12 text-center\">\n",
       "<div class=\"row\">\n",
       "<a class=\"fl col-12 text-description detailLink\" href=\"/gokcen-2-geride-kalanlar\" title=\"Gökçen 2: Geride Kalanlar\">\n",
       "Gökçen 2: Geride Kalanlar\n",
       "</a>\n",
       "<a class=\"col col-12 text-title mt\" href=\"/ephesus-yayinlari\" title=\"Ephesus Yayınları Gökçen 2: Geride Kalanlar\">Ephesus Yayınları</a>\n",
       "<a class=\"fl col-12 text-title\" href=\"/loresima-kitaplari\" id=\"productModelText\" title=\"Model: Loresima\">Loresima</a>\n",
       "<div class=\"fl col-12 cilt-field\">\n",
       "<span>Ciltli</span>\n",
       "</div>\n",
       "</div>\n",
       "</div>\n",
       "<input id=\"subPro8504101003\" name=\"subPro8504101003\" type=\"hidden\" value=\"0\"/>\n",
       "<div class=\"box col-10 col-ml-1 proRowAct\" id=\"1003-product-price-gokcen-2-geride-kalanlar\">\n",
       "<div class=\"fl col-12 tooltipWrapper\">\n",
       "<div class=\"fl col-12 d-flex productPrice\">\n",
       "<div class=\"fl col-12 priceWrapper\">\n",
       "<div class=\"text-line discountedPrice\">\n",
       "289,00\n",
       "TL\n",
       "<span class=\"col fr passive productDiscount\" lang=\"tr\">\n",
       "%35\n",
       "</span>\n",
       "</div>\n",
       "<div class=\"col col-12 currentPrice\">\n",
       "187,85\n",
       "TL\n",
       "</div>\n",
       "</div>\n",
       "</div>\n",
       "<input id=\"Adet8504101003\" name=\"Adet8504101003\" type=\"hidden\" value=\"1\"/>\n",
       "<a class=\"col listStockAlert hoverr ease\" data-parent=\"8504101003\" onclick=\"Add2Cart(850410, $('#subPro8504101003').val(), $('#Adet8504101003').val());\">\n",
       "Sepete Ekle\n",
       "</a>\n",
       "</div>\n",
       "</div>\n",
       "</div>\n",
       "</div>\n",
       "</div>\n",
       "</div>\n",
       "</div>"
      ]
     },
     "execution_count": 14,
     "metadata": {},
     "output_type": "execute_result"
    }
   ],
   "source": [
    "book"
   ]
  }
 ],
 "metadata": {
  "kernelspec": {
   "display_name": "Python 3",
   "language": "python",
   "name": "python3"
  },
  "language_info": {
   "codemirror_mode": {
    "name": "ipython",
    "version": 3
   },
   "file_extension": ".py",
   "mimetype": "text/x-python",
   "name": "python",
   "nbconvert_exporter": "python",
   "pygments_lexer": "ipython3",
   "version": "3.10.8"
  }
 },
 "nbformat": 4,
 "nbformat_minor": 2
}
