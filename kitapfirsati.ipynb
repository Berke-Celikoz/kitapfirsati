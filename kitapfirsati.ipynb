{
 "cells": [
  {
   "cell_type": "code",
   "execution_count": 1,
   "metadata": {},
   "outputs": [
    {
     "name": "stderr",
     "output_type": "stream",
     "text": [
      "C:\\Users\\bcelikoz\\AppData\\Local\\Temp\\ipykernel_16860\\3948740596.py:2: DeprecationWarning: \n",
      "Pyarrow will become a required dependency of pandas in the next major release of pandas (pandas 3.0),\n",
      "(to allow more performant data types, such as the Arrow string type, and better interoperability with other libraries)\n",
      "but was not found to be installed on your system.\n",
      "If this would cause problems for you,\n",
      "please provide us feedback at https://github.com/pandas-dev/pandas/issues/54466\n",
      "        \n",
      "  import pandas as pd\n"
     ]
    }
   ],
   "source": [
    "from flask import Flask, render_template\n",
    "import pandas as pd\n",
    "\n"
   ]
  },
  {
   "cell_type": "code",
   "execution_count": 3,
   "metadata": {},
   "outputs": [
    {
     "data": {
      "text/plain": [
       "0                   Gökçen 2: Geride Kalanlar\n",
       "1                          Acıların Hükümdarı\n",
       "2                    Ötanazi Okulu Kutulu Set\n",
       "3                            On Üç’ü Bağlamak\n",
       "4              Bilinmeyen Bir Kadının Mektubu\n",
       "                         ...                 \n",
       "31652                                   Tuzak\n",
       "31653    Buzun Sıcak Yüzü - Norveç`te Türkler\n",
       "31654               Hayat Oyununda Rol Kapmak\n",
       "31655                         Yorgun Zamanlar\n",
       "31656                       Alengirli Şiirler\n",
       "Name: Book Name, Length: 31657, dtype: object"
      ]
     },
     "execution_count": 3,
     "metadata": {},
     "output_type": "execute_result"
    }
   ],
   "source": [
    "app = Flask(__name__)\n",
    "\n",
    "# Load the scraped data from the CSV file\n",
    "df = pd.read_csv('scraped_data.csv')\n",
    "df\n"
   ]
  },
  {
   "cell_type": "code",
   "execution_count": null,
   "metadata": {},
   "outputs": [],
   "source": [
    "@app.route('/')\n",
    "def index():\n",
    "    # Render the template with the unsorted data\n",
    "    return render_template('index.html', books=df.to_dict(orient='records'))\n",
    "\n",
    "if __name__ == '__main__':\n",
    "    app.run(debug=True)"
   ]
  }
 ],
 "metadata": {
  "kernelspec": {
   "display_name": "Python 3",
   "language": "python",
   "name": "python3"
  },
  "language_info": {
   "codemirror_mode": {
    "name": "ipython",
    "version": 3
   },
   "file_extension": ".py",
   "mimetype": "text/x-python",
   "name": "python",
   "nbconvert_exporter": "python",
   "pygments_lexer": "ipython3",
   "version": "3.12.1"
  }
 },
 "nbformat": 4,
 "nbformat_minor": 2
}
